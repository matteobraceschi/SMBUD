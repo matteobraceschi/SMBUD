{
 "cells": [
  {
   "cell_type": "code",
   "execution_count": null,
   "metadata": {},
   "outputs": [],
   "source": [
    "# load first three pub in order of date of all the pubblications of Letizia Tanca\n",
    "# that has be written between 2010 and 2015\n",
    "db.dblp_pubblications.find(\n",
    "    {\n",
    "        \"$and\": [{\n",
    "        \"Author.name\": \"Letizia Tanca\", \n",
    "        \"$gte\": [{\"Date\": ISODate('2010-01-01T00:00:00Z') }],\n",
    "        \"$lte\": [{\"Date\": ISODate('2015-01-01T00:00:00Z') }]\n",
    "        }]\n",
    "    }, #filter\n",
    "    {\"Author\":1, \"Name_pub\":1 } #projection\n",
    ").limit(3).sort({\"Date\": 1})"
   ]
  },
  {
   "cell_type": "code",
   "execution_count": null,
   "metadata": {},
   "outputs": [],
   "source": [
    "db.pubblications.find({\n",
    "  \"$and\": [\n",
    "    {year: {$gte: 1985}},\n",
    "    {year: {$lte: 1995}},\n",
    "    {\"authors.name\": \"Letizia Tanca\"} ] \n",
    "    }, \n",
    "    {title: 1, year: 1, \"authors.name\": 1}\n",
    ")\n",
    "        "
   ]
  },
  {
   "cell_type": "code",
   "execution_count": null,
   "metadata": {},
   "outputs": [],
   "source": [
    "# find one document in which at least one field of affiliation or bio\n",
    "# contains the word Milan or Rome \n",
    "db.dblp_dataset.findOne(\n",
    "    \"$or\": [\n",
    "        Author.affiliation: {\"$in\": [\"Milan\", \"Milano\", \"Roma\", \"Rome\"]},\n",
    "        Author.bio: {\"$in\": [\"Milan\", \"Milano\", \"Roma\", \"Rome\"]}\n",
    "    ]\n",
    ")"
   ]
  },
  {
   "cell_type": "code",
   "execution_count": null,
   "metadata": {},
   "outputs": [],
   "source": [
    "# find the publications which has the authors who have the word MILAN in their\n",
    "# affiliation or in their bio\n",
    "db.pubblications.find({\n",
    "  \"$or\": [{\"authors.affiliation\": {\"$regex\": \"Milan\"}},\n",
    "  {\"authors.bio\": {\"$regex\": \"Milan\"}}]\n",
    "},{\"authors.affiliation\":1, \"authors.bio\":1}\n",
    ").limit(3)"
   ]
  },
  {
   "cell_type": "code",
   "execution_count": null,
   "metadata": {},
   "outputs": [],
   "source": [
    "# find the document that contain a section with no figures but a body with a lenght of 1000\n",
    "db.dblp_dataset.find(\n",
    "    \"$and\": [\n",
    "        Section.figures: { $size: 0 },\n",
    "        Section.body: { $size: }\n",
    "    ]\n",
    ")"
   ]
  },
  {
   "cell_type": "code",
   "execution_count": null,
   "metadata": {},
   "outputs": [],
   "source": [
    "db.pubblications.find({\n",
    "  \"$and\": [\n",
    "        {\"sections.figures\": { $size: 1 }},\n",
    "        {$expr: { $gte: [{ $strLenCP: \"sections.body\"}, 10 ] } }\n",
    "    ]\n",
    "},{\"sections.figures\":1, \"sections.body\":1}\n",
    ").limit(2)"
   ]
  },
  {
   "cell_type": "code",
   "execution_count": null,
   "metadata": {},
   "outputs": [],
   "source": []
  },
  {
   "cell_type": "code",
   "execution_count": null,
   "metadata": {},
   "outputs": [],
   "source": [
    "# load the first three years which have a pubblication with highest number of pages \n",
    "db.pubblications.aggregate(\n",
    "    [{\n",
    "    $match: {\n",
    "    'authors.mail': {\n",
    "    $regex: 'polimi'\n",
    "    }\n",
    "    }\n",
    "    }, {\n",
    "    $group: {\n",
    "    _id: '$year',\n",
    "    maxPagesInYear: {\n",
    "    $max: '$pages'\n",
    "    }\n",
    "    }\n",
    "    }, {\n",
    "    $sort: {\n",
    "    maxPagesInYear: -1\n",
    "    }\n",
    "    }, {\n",
    "    $limit: 3\n",
    "    }]\n",
    ")"
   ]
  },
  {
   "cell_type": "code",
   "execution_count": null,
   "metadata": {},
   "outputs": [],
   "source": [
    "# load the first three years which have a pubblication with highest number of pages \n",
    "db.pubblications.aggregate([\n",
    "    {$group: {\n",
    "        _id: '$year',\n",
    "        avgPagesInYear: {$avg: '$pages'}\n",
    "    }}, \n",
    "    {$sort: {avgPagesInYear: -1}}, \n",
    "    {$limit: 3}\n",
    "])"
   ]
  },
  {
   "cell_type": "code",
   "execution_count": null,
   "metadata": {},
   "outputs": [],
   "source": []
  },
  {
   "cell_type": "code",
   "execution_count": null,
   "metadata": {},
   "outputs": [],
   "source": [
    "# load the average pages of the first university where all the pubblications dated\n",
    "# between the 95' and 05' has been written from a young auhtor(20/25 years old)\n",
    "# who work in that university \n",
    "db.pubblications.aggregate( \n",
    "    [{\n",
    "        $match: {\n",
    "            $and: [{\n",
    "                    year: {\n",
    "                        $gte: 1995\n",
    "                    }\n",
    "                },\n",
    "                {\n",
    "                    year: {\n",
    "                        $lte: 2000\n",
    "                    }\n",
    "                },\n",
    "                {\n",
    "                    'authors.yob': 1975\n",
    "                }\n",
    "            ]\n",
    "        }\n",
    "    }, {\n",
    "        $group: {\n",
    "            _id: '$authors.affiliation',\n",
    "            avgPages: {\n",
    "                $avg: '$pages'\n",
    "            }\n",
    "        }\n",
    "    }, {\n",
    "        $sort: {\n",
    "            avgPages: -1\n",
    "        }\n",
    "    }, {\n",
    "        $limit: 1\n",
    "    }]\n",
    ")"
   ]
  },
  {
   "cell_type": "code",
   "execution_count": null,
   "metadata": {},
   "outputs": [],
   "source": []
  },
  {
   "cell_type": "code",
   "execution_count": null,
   "metadata": {},
   "outputs": [],
   "source": [
    "# load the average number of pages of all the publications written after 2015\n",
    "# that mention \"machine learning\" in the title or in one section\n",
    "db.pubblications.aggregate(\n",
    "        [{\n",
    "            $match: {\n",
    "            $or: [\n",
    "            { title: { $regex: 'Machine Learning'}},\n",
    "            { title: {$regex: 'machine learning'}},\n",
    "            {'sections.title': {$regex: 'Machine Learning'}},\n",
    "            {'sections.title': {$regex: 'machine learning'}},\n",
    "            {'sections.body': {$regex: 'Machine Learning'}},\n",
    "            {'sections.body': {$regex: 'machine learning'}}\n",
    "        ]}}, \n",
    "        {\n",
    "            $match: {\n",
    "            year: {$gte: 2015}}\n",
    "        },\n",
    "        {\n",
    "            $group: {\n",
    "            _id: '$year',\n",
    "            avgPages: {$avg: '$pages'}\n",
    "        }}, \n",
    "        {\n",
    "            $sort: {\n",
    "            avgPages: -1\n",
    "        }}, \n",
    "        {\n",
    "            $limit: 3\n",
    "        }]\n",
    ")"
   ]
  },
  {
   "cell_type": "markdown",
   "metadata": {},
   "source": [
    "## QUERY 1 WITH 3 NODES 2 REL"
   ]
  },
  {
   "cell_type": "code",
   "execution_count": null,
   "metadata": {},
   "outputs": [],
   "source": [
    "// load the author who work in an USA institute and who wrote the book of the 2010, \n",
    "// with the higher number of pages\n"
   ]
  },
  {
   "cell_type": "markdown",
   "metadata": {},
   "source": [
    "## QUERY 2"
   ]
  },
  {
   "cell_type": "code",
   "execution_count": null,
   "metadata": {},
   "outputs": [],
   "source": [
    "// load the keyword of the 3 pubs that are cited in the biggest number of pub\n",
    "// and they are wrote by an author that work in a top-5 institution in the world \n"
   ]
  },
  {
   "cell_type": "markdown",
   "metadata": {},
   "source": [
    "## QUERY 3"
   ]
  },
  {
   "cell_type": "code",
   "execution_count": null,
   "metadata": {},
   "outputs": [],
   "source": [
    "// load the 5 pubs that are contained in the highest number of journals\n",
    "// and\n",
    "\n"
   ]
  },
  {
   "cell_type": "code",
   "execution_count": null,
   "metadata": {},
   "outputs": [],
   "source": [
    "// load the 5 pubs that are contained in the highest number of journals\n",
    "// and that is written by Marco Brambilla\n"
   ]
  },
  {
   "cell_type": "code",
   "execution_count": null,
   "metadata": {},
   "outputs": [],
   "source": [
    "// load the 5 pubs that are contained in the highest number of journals\n",
    "// and that is written by Marco Brambilla\n"
   ]
  },
  {
   "cell_type": "code",
   "execution_count": null,
   "metadata": {},
   "outputs": [],
   "source": [
    "// load the 5 pubs that are contained in the highest number of journals\n"
   ]
  },
  {
   "cell_type": "markdown",
   "metadata": {},
   "source": [
    "## QUERY 4"
   ]
  },
  {
   "cell_type": "code",
   "execution_count": null,
   "metadata": {},
   "outputs": [],
   "source": [
    "// load the 5 pubs (from 2010 to 2020) contained in a journal that are written by the highest numeber of author coming from instituion of different nations \n",
    "\n"
   ]
  },
  {
   "cell_type": "markdown",
   "metadata": {},
   "source": [
    "## QUERY 5"
   ]
  },
  {
   "cell_type": "code",
   "execution_count": null,
   "metadata": {},
   "outputs": [],
   "source": [
    "// load the conf that are holded by a pub written from an author that work in\n",
    "// a institution of Milan in the top-3 national rank\n",
    "\n"
   ]
  },
  {
   "cell_type": "markdown",
   "metadata": {},
   "source": [
    "#### POSSIBLE QUERIES ####"
   ]
  },
  {
   "cell_type": "code",
   "execution_count": null,
   "metadata": {},
   "outputs": [],
   "source": [
    "# FIND ALL THE PUBLICATION OF A SPECIFIC AUTHOR "
   ]
  },
  {
   "cell_type": "code",
   "execution_count": null,
   "metadata": {},
   "outputs": [],
   "source": [
    "# FIND THE MOST COMMON KEYWORD IN ALL THE PUBLICATIONS"
   ]
  },
  {
   "cell_type": "code",
   "execution_count": null,
   "metadata": {},
   "outputs": [],
   "source": [
    "# FIND THE PERCENTAGE OF EACH TYPE OF PUBBLICATION (ARTICLE, BOOK, NULL, ECC..)"
   ]
  },
  {
   "cell_type": "code",
   "execution_count": null,
   "metadata": {},
   "outputs": [],
   "source": [
    "# FIND THE PERCENTAGE OF THE NUMBER OF AUTHOR FOR EACH PUBLICATIONS"
   ]
  }
 ],
 "metadata": {
  "kernelspec": {
   "display_name": "Python 3.9.7 ('base')",
   "language": "python",
   "name": "python3"
  },
  "language_info": {
   "codemirror_mode": {
    "name": "ipython",
    "version": 3
   },
   "file_extension": ".py",
   "mimetype": "text/x-python",
   "name": "python",
   "nbconvert_exporter": "python",
   "pygments_lexer": "ipython3",
   "version": "3.9.7"
  },
  "orig_nbformat": 4,
  "vscode": {
   "interpreter": {
    "hash": "ad2bdc8ecc057115af97d19610ffacc2b4e99fae6737bb82f5d7fb13d2f2c186"
   }
  }
 },
 "nbformat": 4,
 "nbformat_minor": 2
}
