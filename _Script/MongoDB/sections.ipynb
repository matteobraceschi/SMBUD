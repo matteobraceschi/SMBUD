{
 "cells": [
  {
   "cell_type": "code",
   "execution_count": 11,
   "metadata": {},
   "outputs": [],
   "source": [
    "import random, string\n",
    "import csv\n",
    "import pandas as pd"
   ]
  },
  {
   "cell_type": "code",
   "execution_count": 4,
   "metadata": {},
   "outputs": [],
   "source": [
    "fl= pd.read_csv(\"Datasets/publications.csv\",delimiter=\"|\")"
   ]
  },
  {
   "cell_type": "code",
   "execution_count": 5,
   "metadata": {},
   "outputs": [
    {
     "name": "stderr",
     "output_type": "stream",
     "text": [
      "C:\\Users\\josep\\AppData\\Local\\Temp\\ipykernel_2900\\172563623.py:2: SettingWithCopyWarning: \n",
      "A value is trying to be set on a copy of a slice from a DataFrame\n",
      "\n",
      "See the caveats in the documentation: https://pandas.pydata.org/pandas-docs/stable/user_guide/indexing.html#returning-a-view-versus-a-copy\n",
      "  vect[3]=\"https://d-nb.info/953963667\"\n"
     ]
    }
   ],
   "source": [
    "vect=fl[\"id\"]\n",
    "vect[3]=\"https://d-nb.info/953963667\""
   ]
  },
  {
   "cell_type": "code",
   "execution_count": 7,
   "metadata": {},
   "outputs": [],
   "source": [
    "text1= pd.read_csv(\"Datasets/Reviews.csv\",delimiter=\",\",usecols=[\"Text\",\"Summary\"])\n",
    "text=text1[\"Text\"]\n",
    "titles=text1[\"Summary\"]\n"
   ]
  },
  {
   "cell_type": "code",
   "execution_count": 8,
   "metadata": {},
   "outputs": [],
   "source": [
    "doi=[]\n",
    "title = []\n",
    "body = []\n",
    "id= []\n",
    "identification=0;\n",
    "cose=3000;\n",
    "tit=0;\n",
    "for i in vect:\n",
    "    for j in range(0,random.randrange(1,3)): # section for each document \n",
    "        id.append(identification)\n",
    "        identification=identification+1\n",
    "        doi.append(i)\n",
    "        title.append(titles[tit])\n",
    "        tit=tit+1\n",
    "        body.append(text[cose])\n",
    "        cose=cose+1\n",
    "    "
   ]
  },
  {
   "cell_type": "code",
   "execution_count": 9,
   "metadata": {},
   "outputs": [],
   "source": [
    "dati=pd.DataFrame()\n",
    "\n",
    "dati[\"id\"]=id\n",
    "dati[\"doi\"]=doi\n",
    "dati[\"title\"]=title\n",
    "dati[\"body\"]=body\n"
   ]
  },
  {
   "cell_type": "code",
   "execution_count": 10,
   "metadata": {},
   "outputs": [],
   "source": [
    "dati.to_csv(\"Datasets/Section.csv\",index=False,sep=\"|\")"
   ]
  }
 ],
 "metadata": {
  "kernelspec": {
   "display_name": "Python 3.10.5 64-bit",
   "language": "python",
   "name": "python3"
  },
  "language_info": {
   "codemirror_mode": {
    "name": "ipython",
    "version": 3
   },
   "file_extension": ".py",
   "mimetype": "text/x-python",
   "name": "python",
   "nbconvert_exporter": "python",
   "pygments_lexer": "ipython3",
   "version": "3.10.5"
  },
  "orig_nbformat": 4,
  "vscode": {
   "interpreter": {
    "hash": "93028d5495cf3fdad3791cfb45569ed1ffef5b94a8e8037ba1bdda77d837769f"
   }
  }
 },
 "nbformat": 4,
 "nbformat_minor": 2
}
