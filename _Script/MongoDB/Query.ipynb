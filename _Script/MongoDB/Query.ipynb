{
 "cells": [
  {
   "cell_type": "markdown",
   "metadata": {},
   "source": [
    "## Entità "
   ]
  },
  {
   "cell_type": "code",
   "execution_count": null,
   "metadata": {},
   "outputs": [],
   "source": [
    "##### Load Publication\n",
    "LOAD CSV WITH HEADERS FROM \"file:///publications.csv\" AS row FIELDTERMINATOR \";\"\n",
    "CREATE (:Publication{DOI:row.id, title:row.title, pages:row.pages, isbn:row.isbn, publisher:row.publisher, doc_type:row.doc_type, year:row.years})"
   ]
  },
  {
   "cell_type": "code",
   "execution_count": null,
   "metadata": {},
   "outputs": [],
   "source": [
    "##### Load Publication\n",
    "LOAD CSV WITH HEADERS FROM \"file:///publications.csv\" AS row FIELDTERMINATOR \";\"\n",
    "CREATE (:Publication{DOI:row.id, title:row.title, pages:row.pages, isbn:row.isbn, publisher:row.publisher, doc_type:row.doc_type})"
   ]
  },
  {
   "cell_type": "code",
   "execution_count": null,
   "metadata": {},
   "outputs": [],
   "source": [
    "##### Load Author\n",
    "LOAD CSV WITH HEADERS FROM \"file:///authors_Orcid.csv\" AS row FIELDTERMINATOR \",\" WITH row\n",
    "CREATE (:Author{author_name:row.author_name, orcid:row.orcid})"
   ]
  },
  {
   "cell_type": "code",
   "execution_count": null,
   "metadata": {},
   "outputs": [],
   "source": [
    "####Load Conference\n",
    "LOAD CSV WITH HEADERS FROM \"file:///conferences.csv\" AS row FIELDTERMINATOR \",\" WITH row\n",
    "CREATE (:conference{name:row.name})"
   ]
  },
  {
   "cell_type": "code",
   "execution_count": null,
   "metadata": {},
   "outputs": [],
   "source": [
    "##### Load Journals\n",
    "LOAD CSV WITH HEADERS FROM \"file:///journals.csv\" AS row FIELDTERMINATOR \"|\" WITH row\n",
    "CREATE (:Journals{name:row.name})"
   ]
  },
  {
   "cell_type": "code",
   "execution_count": null,
   "metadata": {},
   "outputs": [],
   "source": [
    "#### Load Publisher\n",
    "LOAD CSV WITH HEADERS FROM \"file:///publisher.csv\" AS row FIELDTERMINATOR \"|\" WITH row\n",
    "CREATE (:publisher{name:row.name})"
   ]
  },
  {
   "cell_type": "markdown",
   "metadata": {},
   "source": [
    "## Load Relationship"
   ]
  },
  {
   "cell_type": "code",
   "execution_count": null,
   "metadata": {},
   "outputs": [],
   "source": [
    "##### Load Relation Citation \n",
    "LOAD CSV WITH HEADERS FROM \"file:///citationFAKE.csv\" AS row\n",
    "MATCH (a:Publication{DOI:row.document}),(b:Publication{DOI:row.cite})\n",
    "CREATE (a)-[:CITE]->(b)"
   ]
  },
  {
   "cell_type": "code",
   "execution_count": null,
   "metadata": {},
   "outputs": [],
   "source": [
    "##### load Relation Write\n",
    "load csv with headers from \"file:///relationship.csv\" AS row FIELDTERMINATOR \"|\" \n",
    "match(a:Author{author_name:row.author_name})\n",
    "match(p:Publication{DOI:row.id})\n",
    "create (a)-[:WROTE{order:row.author_order}]->(p)"
   ]
  },
  {
   "cell_type": "code",
   "execution_count": null,
   "metadata": {},
   "outputs": [],
   "source": [
    "#### load Relation Hold   \n",
    "LOAD CSV WITH HEADERS FROM \"file:///conferences_relationship.csv\" AS row FIELDTERMINATOR \"|\"\n",
    "MATCH (a:Publication{DOI:row.id})\n",
    "MATCH (b:conference{name:row.name})\n",
    "CREATE (a)-[:HOLD]->(b)"
   ]
  },
  {
   "cell_type": "code",
   "execution_count": null,
   "metadata": {},
   "outputs": [],
   "source": [
    "#### load Relation Journal\n",
    "LOAD CSV WITH HEADERS FROM \"file:///journals_relationship.csv\" AS row FIELDTERMINATOR \"|\"\n",
    "MATCH (a:Publication{DOI:row.id}),(b:Journals{name:row.name})\n",
    "CREATE (a)-[:CONTAINED]->(b)"
   ]
  },
  {
   "cell_type": "code",
   "execution_count": null,
   "metadata": {},
   "outputs": [],
   "source": [
    "#### load Relation Publisher\n",
    "LOAD CSV WITH HEADERS FROM \"file:///publisher_relationship.csv\" AS row FIELDTERMINATOR \"|\"\n",
    "MATCH (a:Publication{DOI:row.id})\n",
    "MATCH(b:publisher{name:row.name})\n",
    "CREATE (a)-[:CONTAINED]->(b)"
   ]
  },
  {
   "cell_type": "code",
   "execution_count": null,
   "metadata": {},
   "outputs": [],
   "source": [
    "#### load keywords\n",
    "LOAD CSV WITH HEADERS FROM \"file:///keywords.csv\" AS row\n",
    "FIELDTERMINATOR \";\"\n",
    "MATCH (p:Publication {DOI: row.pubID})\n",
    "MERGE (k:Keyword {name: row.keyword})\n",
    "MERGE (p)-[:KEYWORD]->(k)"
   ]
  }
 ],
 "metadata": {
  "kernelspec": {
   "display_name": "Python 3.10.5 64-bit",
   "language": "python",
   "name": "python3"
  },
  "language_info": {
   "name": "python",
   "version": "3.10.5"
  },
  "orig_nbformat": 4,
  "vscode": {
   "interpreter": {
    "hash": "93028d5495cf3fdad3791cfb45569ed1ffef5b94a8e8037ba1bdda77d837769f"
   }
  }
 },
 "nbformat": 4,
 "nbformat_minor": 2
}
