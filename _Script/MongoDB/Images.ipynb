{
 "cells": [
  {
   "cell_type": "code",
   "execution_count": 1,
   "metadata": {},
   "outputs": [],
   "source": [
    "import random, string\n",
    "import csv\n",
    "import pandas as pd"
   ]
  },
  {
   "cell_type": "code",
   "execution_count": 9,
   "metadata": {},
   "outputs": [],
   "source": [
    "\n",
    "urldata=[]\n",
    "letters = string.ascii_lowercase\n",
    "for i in range (0,20000):\n",
    "    temp = ( ''.join(random.choice(letters) for i in range(10)) )\n",
    "    urldata.append(\"https://picsum.photos/seed/\" + temp + \"/200/300\")"
   ]
  },
  {
   "cell_type": "code",
   "execution_count": 5,
   "metadata": {},
   "outputs": [
    {
     "name": "stdout",
     "output_type": "stream",
     "text": [
      "5721\n"
     ]
    }
   ],
   "source": [
    "fl= pd.read_csv(\"Datasets/Section.csv\",delimiter=\"|\")\n",
    "id=fl[\"id\"]\n",
    "\n",
    "print(len(id))"
   ]
  },
  {
   "cell_type": "code",
   "execution_count": 4,
   "metadata": {},
   "outputs": [
    {
     "name": "stdout",
     "output_type": "stream",
     "text": [
      "158915\n"
     ]
    }
   ],
   "source": [
    "cap= pd.read_csv(\"Datasets/image_caption.csv\",usecols=[\"comment\"],delimiter=\"|\")\n",
    "captions=cap[\"comment\"]\n",
    "\n",
    "print(len(captions))"
   ]
  },
  {
   "cell_type": "code",
   "execution_count": 18,
   "metadata": {},
   "outputs": [],
   "source": [
    "secid=[]\n",
    "url=[]\n",
    "url_index=0\n",
    "caption=[]\n",
    "cap_index=0\n",
    "\n",
    "\n",
    "var_figid=0\n",
    "for i in id:\n",
    "    for j in range(0,random.randrange(0,3)):\n",
    "        secid.append(i)\n",
    "        url.append(urldata[url_index])\n",
    "        url_index +=1\n",
    "        caption.append(captions[cap_index])\n",
    "        cap_index+=1\n"
   ]
  },
  {
   "cell_type": "code",
   "execution_count": 19,
   "metadata": {},
   "outputs": [
    {
     "data": {
      "text/html": [
       "<div>\n",
       "<style scoped>\n",
       "    .dataframe tbody tr th:only-of-type {\n",
       "        vertical-align: middle;\n",
       "    }\n",
       "\n",
       "    .dataframe tbody tr th {\n",
       "        vertical-align: top;\n",
       "    }\n",
       "\n",
       "    .dataframe thead th {\n",
       "        text-align: right;\n",
       "    }\n",
       "</style>\n",
       "<table border=\"1\" class=\"dataframe\">\n",
       "  <thead>\n",
       "    <tr style=\"text-align: right;\">\n",
       "      <th></th>\n",
       "      <th>secid</th>\n",
       "      <th>url</th>\n",
       "      <th>caption</th>\n",
       "    </tr>\n",
       "  </thead>\n",
       "  <tbody>\n",
       "    <tr>\n",
       "      <th>0</th>\n",
       "      <td>0</td>\n",
       "      <td>https://picsum.photos/seed/tcfsjmrfhw/200/300</td>\n",
       "      <td>Two young guys with shaggy hair look at their...</td>\n",
       "    </tr>\n",
       "    <tr>\n",
       "      <th>1</th>\n",
       "      <td>0</td>\n",
       "      <td>https://picsum.photos/seed/aogvuydquh/200/300</td>\n",
       "      <td>Two young , White males are outside near many...</td>\n",
       "    </tr>\n",
       "    <tr>\n",
       "      <th>2</th>\n",
       "      <td>3</td>\n",
       "      <td>https://picsum.photos/seed/hdnmzifmco/200/300</td>\n",
       "      <td>Two men in green shirts are standing in a yard .</td>\n",
       "    </tr>\n",
       "    <tr>\n",
       "      <th>3</th>\n",
       "      <td>3</td>\n",
       "      <td>https://picsum.photos/seed/zxswvzsjvg/200/300</td>\n",
       "      <td>A man in a blue shirt standing in a garden .</td>\n",
       "    </tr>\n",
       "    <tr>\n",
       "      <th>4</th>\n",
       "      <td>4</td>\n",
       "      <td>https://picsum.photos/seed/uyuzcnshxu/200/300</td>\n",
       "      <td>Two friends enjoy time spent together .</td>\n",
       "    </tr>\n",
       "    <tr>\n",
       "      <th>...</th>\n",
       "      <td>...</td>\n",
       "      <td>...</td>\n",
       "      <td>...</td>\n",
       "    </tr>\n",
       "    <tr>\n",
       "      <th>5726</th>\n",
       "      <td>5716</td>\n",
       "      <td>https://picsum.photos/seed/nytdfjmzjf/200/300</td>\n",
       "      <td>A golfer prepares to take a shot on golf cour...</td>\n",
       "    </tr>\n",
       "    <tr>\n",
       "      <th>5727</th>\n",
       "      <td>5717</td>\n",
       "      <td>https://picsum.photos/seed/hwntvttaba/200/300</td>\n",
       "      <td>A man wearing a t-shirt and shorts is playing...</td>\n",
       "    </tr>\n",
       "    <tr>\n",
       "      <th>5728</th>\n",
       "      <td>5717</td>\n",
       "      <td>https://picsum.photos/seed/zrnfgwnnzu/200/300</td>\n",
       "      <td>A man playing a round of golf at the golf cou...</td>\n",
       "    </tr>\n",
       "    <tr>\n",
       "      <th>5729</th>\n",
       "      <td>5720</td>\n",
       "      <td>https://picsum.photos/seed/femxykerxp/200/300</td>\n",
       "      <td>A white man in a blue shirt playing golf .</td>\n",
       "    </tr>\n",
       "    <tr>\n",
       "      <th>5730</th>\n",
       "      <td>5720</td>\n",
       "      <td>https://picsum.photos/seed/yirltalydf/200/300</td>\n",
       "      <td>A fireman sprays inside the open hood of smal...</td>\n",
       "    </tr>\n",
       "  </tbody>\n",
       "</table>\n",
       "<p>5731 rows × 3 columns</p>\n",
       "</div>"
      ],
      "text/plain": [
       "      secid                                            url  \\\n",
       "0         0  https://picsum.photos/seed/tcfsjmrfhw/200/300   \n",
       "1         0  https://picsum.photos/seed/aogvuydquh/200/300   \n",
       "2         3  https://picsum.photos/seed/hdnmzifmco/200/300   \n",
       "3         3  https://picsum.photos/seed/zxswvzsjvg/200/300   \n",
       "4         4  https://picsum.photos/seed/uyuzcnshxu/200/300   \n",
       "...     ...                                            ...   \n",
       "5726   5716  https://picsum.photos/seed/nytdfjmzjf/200/300   \n",
       "5727   5717  https://picsum.photos/seed/hwntvttaba/200/300   \n",
       "5728   5717  https://picsum.photos/seed/zrnfgwnnzu/200/300   \n",
       "5729   5720  https://picsum.photos/seed/femxykerxp/200/300   \n",
       "5730   5720  https://picsum.photos/seed/yirltalydf/200/300   \n",
       "\n",
       "                                                caption  \n",
       "0      Two young guys with shaggy hair look at their...  \n",
       "1      Two young , White males are outside near many...  \n",
       "2      Two men in green shirts are standing in a yard .  \n",
       "3          A man in a blue shirt standing in a garden .  \n",
       "4               Two friends enjoy time spent together .  \n",
       "...                                                 ...  \n",
       "5726   A golfer prepares to take a shot on golf cour...  \n",
       "5727   A man wearing a t-shirt and shorts is playing...  \n",
       "5728   A man playing a round of golf at the golf cou...  \n",
       "5729         A white man in a blue shirt playing golf .  \n",
       "5730   A fireman sprays inside the open hood of smal...  \n",
       "\n",
       "[5731 rows x 3 columns]"
      ]
     },
     "execution_count": 19,
     "metadata": {},
     "output_type": "execute_result"
    }
   ],
   "source": [
    "dati=pd.DataFrame()\n",
    "\n",
    "dati[\"secid\"]=secid\n",
    "dati[\"url\"]=url\n",
    "dati[\"caption\"]=caption\n",
    "\n",
    "dati"
   ]
  },
  {
   "cell_type": "code",
   "execution_count": 20,
   "metadata": {},
   "outputs": [],
   "source": [
    "dati.to_csv(\"Datasets/Section_images.csv\",index=False,sep=\"|\")"
   ]
  },
  {
   "cell_type": "code",
   "execution_count": 12,
   "metadata": {},
   "outputs": [
    {
     "name": "stdout",
     "output_type": "stream",
     "text": [
      "2808\n"
     ]
    }
   ],
   "source": [
    "fl= pd.read_csv(\"Datasets/subSection2.csv\",delimiter=\"|\")\n",
    "id=fl[\"id\"]\n",
    "\n",
    "print(len(id))"
   ]
  },
  {
   "cell_type": "code",
   "execution_count": 13,
   "metadata": {},
   "outputs": [],
   "source": [
    "secid=[]\n",
    "url=[]\n",
    "url_index=8000\n",
    "caption=[]\n",
    "cap_index=8000\n",
    "\n",
    "\n",
    "var_figid=0\n",
    "for i in id:\n",
    "    for j in range(0,random.randrange(0,3)):\n",
    "        secid.append(i)\n",
    "        url.append(urldata[url_index])\n",
    "        url_index +=1\n",
    "        caption.append(captions[cap_index])\n",
    "        cap_index+=1"
   ]
  },
  {
   "cell_type": "code",
   "execution_count": 14,
   "metadata": {},
   "outputs": [
    {
     "data": {
      "text/html": [
       "<div>\n",
       "<style scoped>\n",
       "    .dataframe tbody tr th:only-of-type {\n",
       "        vertical-align: middle;\n",
       "    }\n",
       "\n",
       "    .dataframe tbody tr th {\n",
       "        vertical-align: top;\n",
       "    }\n",
       "\n",
       "    .dataframe thead th {\n",
       "        text-align: right;\n",
       "    }\n",
       "</style>\n",
       "<table border=\"1\" class=\"dataframe\">\n",
       "  <thead>\n",
       "    <tr style=\"text-align: right;\">\n",
       "      <th></th>\n",
       "      <th>secid</th>\n",
       "      <th>url</th>\n",
       "      <th>caption</th>\n",
       "    </tr>\n",
       "  </thead>\n",
       "  <tbody>\n",
       "    <tr>\n",
       "      <th>0</th>\n",
       "      <td>ss01</td>\n",
       "      <td>https://picsum.photos/seed/qadshiythm/200/300</td>\n",
       "      <td>A happy young girl in pigtails watching somet...</td>\n",
       "    </tr>\n",
       "    <tr>\n",
       "      <th>1</th>\n",
       "      <td>ss02</td>\n",
       "      <td>https://picsum.photos/seed/ptbqjstjxf/200/300</td>\n",
       "      <td>A child with her hair tied is smiling .</td>\n",
       "    </tr>\n",
       "    <tr>\n",
       "      <th>2</th>\n",
       "      <td>ss02</td>\n",
       "      <td>https://picsum.photos/seed/lgeppumggx/200/300</td>\n",
       "      <td>A girl with pigtails is laughing .</td>\n",
       "    </tr>\n",
       "    <tr>\n",
       "      <th>3</th>\n",
       "      <td>ss03</td>\n",
       "      <td>https://picsum.photos/seed/gejcnixgcg/200/300</td>\n",
       "      <td>A girl with pigtails is smiling .</td>\n",
       "    </tr>\n",
       "    <tr>\n",
       "      <th>4</th>\n",
       "      <td>ss03</td>\n",
       "      <td>https://picsum.photos/seed/hwcouqtnmd/200/300</td>\n",
       "      <td>A child is laughing and smiling .</td>\n",
       "    </tr>\n",
       "    <tr>\n",
       "      <th>...</th>\n",
       "      <td>...</td>\n",
       "      <td>...</td>\n",
       "      <td>...</td>\n",
       "    </tr>\n",
       "    <tr>\n",
       "      <th>2744</th>\n",
       "      <td>ss02805</td>\n",
       "      <td>https://picsum.photos/seed/qgglxhxhgh/200/300</td>\n",
       "      <td>A male DJ hooks up his microphone .</td>\n",
       "    </tr>\n",
       "    <tr>\n",
       "      <th>2745</th>\n",
       "      <td>ss02806</td>\n",
       "      <td>https://picsum.photos/seed/wtlegbublx/200/300</td>\n",
       "      <td>A boy in a black shirt puts his hands under t...</td>\n",
       "    </tr>\n",
       "    <tr>\n",
       "      <th>2746</th>\n",
       "      <td>ss02806</td>\n",
       "      <td>https://picsum.photos/seed/czvnlgudtv/200/300</td>\n",
       "      <td>Here is a picture of a woman getting helped b...</td>\n",
       "    </tr>\n",
       "    <tr>\n",
       "      <th>2747</th>\n",
       "      <td>ss02807</td>\n",
       "      <td>https://picsum.photos/seed/zpuxrqorah/200/300</td>\n",
       "      <td>A man is holding a standing woman 's foot wit...</td>\n",
       "    </tr>\n",
       "    <tr>\n",
       "      <th>2748</th>\n",
       "      <td>ss02807</td>\n",
       "      <td>https://picsum.photos/seed/sdtkhgnbre/200/300</td>\n",
       "      <td>A young man giving a young woman a boost up a...</td>\n",
       "    </tr>\n",
       "  </tbody>\n",
       "</table>\n",
       "<p>2749 rows × 3 columns</p>\n",
       "</div>"
      ],
      "text/plain": [
       "        secid                                            url  \\\n",
       "0        ss01  https://picsum.photos/seed/qadshiythm/200/300   \n",
       "1        ss02  https://picsum.photos/seed/ptbqjstjxf/200/300   \n",
       "2        ss02  https://picsum.photos/seed/lgeppumggx/200/300   \n",
       "3        ss03  https://picsum.photos/seed/gejcnixgcg/200/300   \n",
       "4        ss03  https://picsum.photos/seed/hwcouqtnmd/200/300   \n",
       "...       ...                                            ...   \n",
       "2744  ss02805  https://picsum.photos/seed/qgglxhxhgh/200/300   \n",
       "2745  ss02806  https://picsum.photos/seed/wtlegbublx/200/300   \n",
       "2746  ss02806  https://picsum.photos/seed/czvnlgudtv/200/300   \n",
       "2747  ss02807  https://picsum.photos/seed/zpuxrqorah/200/300   \n",
       "2748  ss02807  https://picsum.photos/seed/sdtkhgnbre/200/300   \n",
       "\n",
       "                                                caption  \n",
       "0      A happy young girl in pigtails watching somet...  \n",
       "1               A child with her hair tied is smiling .  \n",
       "2                    A girl with pigtails is laughing .  \n",
       "3                     A girl with pigtails is smiling .  \n",
       "4                     A child is laughing and smiling .  \n",
       "...                                                 ...  \n",
       "2744                A male DJ hooks up his microphone .  \n",
       "2745   A boy in a black shirt puts his hands under t...  \n",
       "2746   Here is a picture of a woman getting helped b...  \n",
       "2747   A man is holding a standing woman 's foot wit...  \n",
       "2748   A young man giving a young woman a boost up a...  \n",
       "\n",
       "[2749 rows x 3 columns]"
      ]
     },
     "execution_count": 14,
     "metadata": {},
     "output_type": "execute_result"
    }
   ],
   "source": [
    "dati=pd.DataFrame()\n",
    "\n",
    "dati[\"secid\"]=secid\n",
    "dati[\"url\"]=url\n",
    "dati[\"caption\"]=caption\n",
    "\n",
    "dati"
   ]
  },
  {
   "cell_type": "code",
   "execution_count": 15,
   "metadata": {},
   "outputs": [],
   "source": [
    "dati.to_csv(\"Datasets/subSection2_images.csv\",index=False,sep=\"|\")"
   ]
  }
 ],
 "metadata": {
  "kernelspec": {
   "display_name": "Python 3.10.5 64-bit",
   "language": "python",
   "name": "python3"
  },
  "language_info": {
   "codemirror_mode": {
    "name": "ipython",
    "version": 3
   },
   "file_extension": ".py",
   "mimetype": "text/x-python",
   "name": "python",
   "nbconvert_exporter": "python",
   "pygments_lexer": "ipython3",
   "version": "3.10.5"
  },
  "orig_nbformat": 4,
  "vscode": {
   "interpreter": {
    "hash": "93028d5495cf3fdad3791cfb45569ed1ffef5b94a8e8037ba1bdda77d837769f"
   }
  }
 },
 "nbformat": 4,
 "nbformat_minor": 2
}
