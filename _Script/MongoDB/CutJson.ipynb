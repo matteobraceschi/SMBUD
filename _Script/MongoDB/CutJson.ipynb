{
 "cells": [
  {
   "cell_type": "code",
   "execution_count": 1,
   "id": "e5a56410",
   "metadata": {},
   "outputs": [],
   "source": [
    "import json\n",
    "import ijson"
   ]
  },
  {
   "cell_type": "code",
   "execution_count": null,
   "id": "18188e3f",
   "metadata": {
    "scrolled": true
   },
   "outputs": [],
   "source": [
    "%%time\n",
    "\n",
    "years_pair = {}\n",
    "\n",
    "with open(\"dblp.v12.json\", \"rb\") as f:\n",
    "    for record in ijson.items(f, \"item\", use_float=True):\n",
    "        if record[\"year\"] != \"\":\n",
    "            try:\n",
    "                years_pair[record[\"year\"]] = years_pair[record[\"year\"]] + 1\n",
    "            except KeyError:\n",
    "                years_pair[record[\"year\"]] = 1\n",
    "\n"
   ]
  },
  {
   "cell_type": "code",
   "execution_count": null,
   "id": "5015355c",
   "metadata": {},
   "outputs": [],
   "source": [
    "dict(sorted(years_pair.items())) \n",
    "print(years_pair)"
   ]
  },
  {
   "cell_type": "code",
   "execution_count": null,
   "id": "30200cf2",
   "metadata": {},
   "outputs": [],
   "source": [
    "%%time\n",
    "\n",
    "i=0\n",
    "with open(\"dblpv12CUT.json\", \"a\") as data:\n",
    "    data.write(\"[\")\n",
    "    with open(\"dblp.v12.json\", \"rb\") as f:\n",
    "        for record in ijson.items(f, \"item\", use_float=True):\n",
    "            if i < 2262458:\n",
    "                if record[\"year\"] <= 2010:\n",
    "                    record.pop(\"indexed_abstract\", \"no abstarct\")\n",
    "                    record.pop(\"fos\", \"no abstarct\")\n",
    "\n",
    "                    data.write(json.dumps(record, indent=2))\n",
    "                    if i != 2262457:\n",
    "                        data.write(\",\\n\")\n",
    "                    i = i + 1\n",
    "            else:\n",
    "                break\n",
    "    data.write(\"]\")\n",
    "    data.close()"
   ]
  }
 ],
 "metadata": {
  "kernelspec": {
   "display_name": "Python 3 (ipykernel)",
   "language": "python",
   "name": "python3"
  },
  "language_info": {
   "codemirror_mode": {
    "name": "ipython",
    "version": 3
   },
   "file_extension": ".py",
   "mimetype": "text/x-python",
   "name": "python",
   "nbconvert_exporter": "python",
   "pygments_lexer": "ipython3",
   "version": "3.10.5"
  }
 },
 "nbformat": 4,
 "nbformat_minor": 5
}
