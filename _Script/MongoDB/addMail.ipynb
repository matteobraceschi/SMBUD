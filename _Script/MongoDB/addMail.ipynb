{
 "cells": [
  {
   "cell_type": "code",
   "execution_count": 27,
   "metadata": {},
   "outputs": [],
   "source": [
    "import random\n",
    "import string\n",
    "import pandas as pd\n",
    "\n",
    "mail= [\"@gmail.com\",\"@outlook.it\",\"@mail.polimi.it\",\"@tiscali.it\",\"@duck.com\"]"
   ]
  },
  {
   "cell_type": "code",
   "execution_count": 39,
   "metadata": {},
   "outputs": [],
   "source": [
    "\n",
    "def getmail():\n",
    "\n",
    "    length=random.randrange(5,8)\n",
    "    result = ''.join(random.choice(string.ascii_letters) for i in range(length))\n",
    "    result = result+mail[random.randrange(0,5)]\n",
    "    return result"
   ]
  },
  {
   "cell_type": "code",
   "execution_count": 43,
   "metadata": {},
   "outputs": [],
   "source": [
    "fl= pd.read_csv(\"Datasets/editor_authors.csv\",delimiter=\"|\")\n",
    "\n",
    "data2=[]\n",
    "\n",
    "for i in range (0,len(fl)):\n",
    "    data2.append(getmail())\n",
    "\n",
    "fl[\"mail\"]=data2"
   ]
  },
  {
   "cell_type": "code",
   "execution_count": 44,
   "metadata": {},
   "outputs": [],
   "source": [
    "fl.to_csv(\"Datasets/editor_authors.csv\",index=False,sep=\"|\")"
   ]
  }
 ],
 "metadata": {
  "kernelspec": {
   "display_name": "Python 3.10.5 64-bit",
   "language": "python",
   "name": "python3"
  },
  "language_info": {
   "codemirror_mode": {
    "name": "ipython",
    "version": 3
   },
   "file_extension": ".py",
   "mimetype": "text/x-python",
   "name": "python",
   "nbconvert_exporter": "python",
   "pygments_lexer": "ipython3",
   "version": "3.10.5"
  },
  "orig_nbformat": 4,
  "vscode": {
   "interpreter": {
    "hash": "93028d5495cf3fdad3791cfb45569ed1ffef5b94a8e8037ba1bdda77d837769f"
   }
  }
 },
 "nbformat": 4,
 "nbformat_minor": 2
}
