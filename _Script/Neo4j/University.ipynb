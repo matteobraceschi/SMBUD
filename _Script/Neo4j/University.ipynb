{
 "cells": [
  {
   "cell_type": "code",
   "execution_count": 2,
   "metadata": {},
   "outputs": [],
   "source": [
    "import pandas as pd\n",
    "import random"
   ]
  },
  {
   "cell_type": "code",
   "execution_count": 6,
   "metadata": {},
   "outputs": [
    {
     "name": "stdout",
     "output_type": "stream",
     "text": [
      "700\n",
      "501\n"
     ]
    }
   ],
   "source": [
    "inst_df = pd.read_csv(\"Datasets/cwurData.csv\",nrows=700,usecols=[\"world_rank\",\"institution\",\"country\",\"national_rank\",\"quality_of_education\",\"score\"])\n",
    "print(len(inst_df))\n",
    "\n",
    "inst_df=inst_df.drop_duplicates(\"institution\")\n",
    "print(len(inst_df))\n",
    "\n",
    "#nota, ho tolto \", -\" a mano se no molte univerità sarebbero state ripetute in neo4j \n",
    "inst_df.to_csv(\"Datasets/institution_fixed.csv\", sep=\"|\", index=False)"
   ]
  },
  {
   "cell_type": "code",
   "execution_count": 8,
   "metadata": {},
   "outputs": [
    {
     "name": "stdout",
     "output_type": "stream",
     "text": [
      "501\n",
      "501\n"
     ]
    }
   ],
   "source": [
    "aut_df = pd.read_csv(\"Datasets/author.csv\",sep=\"|\")\n",
    "inst_df = pd.read_csv(\"Datasets/institution_fixed.csv\",sep=\"|\")\n",
    "print(len(inst_df))\n",
    "inst_df=inst_df.drop_duplicates(\"institution\")\n",
    "print(len(inst_df))\n",
    "aut_df\n",
    "\n",
    "name=[]\n",
    "univerisity=[]\n",
    "\n",
    "\n",
    "for i in aut_df[\"name\"]:\n",
    "    name.append(i)\n",
    "    univerisity.append(inst_df[\"institution\"][random.randrange(0,len(inst_df))])\n",
    "\n",
    "\n"
   ]
  },
  {
   "cell_type": "code",
   "execution_count": 9,
   "metadata": {},
   "outputs": [],
   "source": [
    "data = {'name': name,\n",
    "        'university': univerisity,\n",
    "        }\n",
    "\n",
    "df = pd.DataFrame(data)\n",
    "df\n",
    "df.to_csv(\"Datasets/work_rel.csv\",index=False,sep=\"|\")"
   ]
  }
 ],
 "metadata": {
  "kernelspec": {
   "display_name": "Python 3.10.5 64-bit",
   "language": "python",
   "name": "python3"
  },
  "language_info": {
   "codemirror_mode": {
    "name": "ipython",
    "version": 3
   },
   "file_extension": ".py",
   "mimetype": "text/x-python",
   "name": "python",
   "nbconvert_exporter": "python",
   "pygments_lexer": "ipython3",
   "version": "3.10.5"
  },
  "orig_nbformat": 4,
  "vscode": {
   "interpreter": {
    "hash": "93028d5495cf3fdad3791cfb45569ed1ffef5b94a8e8037ba1bdda77d837769f"
   }
  }
 },
 "nbformat": 4,
 "nbformat_minor": 2
}
