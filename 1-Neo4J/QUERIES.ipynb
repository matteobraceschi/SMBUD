{
 "cells": [
  {
   "cell_type": "markdown",
   "metadata": {},
   "source": [
    "## QUERY 1 WITH 3 NODES 2 REL"
   ]
  },
  {
   "cell_type": "code",
   "execution_count": null,
   "metadata": {},
   "outputs": [],
   "source": [
    "// load the author who work in an USA institute and who wrote the book of the 2010, \n",
    "// with the higher number of pages\n",
    "match (aut:Author)-[r1:WROTE]->(pub:Publication)\n",
    "match (aut)-[r2:WORK]->(inst:Institution{country:'USA'})\n",
    "with pub as p, aut as a, r1, r2, inst as i \n",
    "where p.doc_type=\"book\" and pub.year=2010\n",
    "return a, r1, r2, i, p, p.pages\n",
    "order by p.pages desc\n",
    "limit 3"
   ]
  },
  {
   "cell_type": "markdown",
   "metadata": {},
   "source": [
    "## QUERY 2"
   ]
  },
  {
   "cell_type": "code",
   "execution_count": null,
   "metadata": {},
   "outputs": [],
   "source": [
    "// load the keyword of the 3 pubs that is cited from more number of pub\n",
    "MATCH (p1)-[r:CITE]->(p2:Publication)\n",
    "MATCH (p2)-[:KEYWORD]->(k)\n",
    "return k, p2.DOI , count(DISTINCT p1) as n \n",
    "order by count(distinct p1) desc limit 5\n"
   ]
  },
  {
   "cell_type": "code",
   "execution_count": null,
   "metadata": {},
   "outputs": [],
   "source": [
    "############# sotto"
   ]
  },
  {
   "cell_type": "code",
   "execution_count": null,
   "metadata": {},
   "outputs": [],
   "source": [
    "// load the keyword of the 3 pubs that are cited in the biggest number of pub\n",
    "// and they are wrote by an author that work in a top-5 institution in the world \n",
    "MATCH (p1)-[r:CITE]->(p2:Publication)\n",
    "MATCH (p2)-[:KEYWORD]->(k)\n",
    "MATCH (p2)<-[k1:WROTE]-(aut)-[:WORK]->(inst:Institution)\n",
    "with inst.wr as w, k, p2, p1\n",
    "where w < 5\n",
    "return k.name, p2.title, count(DISTINCT p1) as n, w\n",
    "order by n desc limit 3"
   ]
  },
  {
   "cell_type": "markdown",
   "metadata": {},
   "source": [
    "## QUERY 3"
   ]
  },
  {
   "cell_type": "code",
   "execution_count": null,
   "metadata": {},
   "outputs": [],
   "source": [
    "##### NON VA PER ORA"
   ]
  },
  {
   "cell_type": "code",
   "execution_count": null,
   "metadata": {},
   "outputs": [],
   "source": [
    "MATCH (pub:Publication)-[r:CONTAINED]->(a) \n",
    "with pub, r, a, count(distinct a) as n\n",
    "order by n desc \n",
    "RETURN pub, n, r, a LIMIT 5 "
   ]
  },
  {
   "cell_type": "code",
   "execution_count": null,
   "metadata": {},
   "outputs": [],
   "source": []
  },
  {
   "cell_type": "code",
   "execution_count": null,
   "metadata": {},
   "outputs": [],
   "source": [
    "############ sotto"
   ]
  },
  {
   "cell_type": "code",
   "execution_count": null,
   "metadata": {},
   "outputs": [],
   "source": [
    "// load the 5 pubs that are contained in the highest number of journals\n",
    "// and\n",
    "MATCH (pub:Publication)-[r1:CONTAINED]->(a:Journal) \n",
    "match (pub)<-[r3:WROTE]-(aut)-[r2:WORK]->(inst:Institution{name_uni:'University of Parma'})\n",
    "RETURN pub, r1, count(distinct a) as n, a, inst, r2, r3\n",
    "order by count(distinct a) desc limit 50\n"
   ]
  },
  {
   "cell_type": "code",
   "execution_count": null,
   "metadata": {},
   "outputs": [],
   "source": [
    "// load the 5 pubs that are contained in the highest number of journals\n",
    "// and that is written by Marco Brambilla\n",
    "MATCH (pub:Publication)-[r1:CONTAINED]->(a:Journal) \n",
    "with pub, count(distinct pub) as n, a\n",
    "order by n desc \n",
    "RETURN a, count(distinct pub) LIMIT 20"
   ]
  },
  {
   "cell_type": "code",
   "execution_count": null,
   "metadata": {},
   "outputs": [],
   "source": [
    "// load the 5 pubs that are contained in the highest number of journals\n",
    "// and that is written by Marco Brambilla\n",
    "MATCH (pub:Publication)-[r:CONTAINED]->(a) \n",
    "MATCH (pub)<-[r2:WROTE]-(aut)\n",
    "where aut.name = 'Letizia Tanca'\n",
    "with pub, r, a, count(distinct a) as n, r2, aut\n",
    "order by n desc \n",
    "RETURN pub, n, r, a, aut, r2 LIMIT 20"
   ]
  },
  {
   "cell_type": "code",
   "execution_count": null,
   "metadata": {},
   "outputs": [],
   "source": [
    "// load the 5 pubs that are contained in the highest number of journals\n",
    "MATCH (pub:Publication)-[r:CONTAINED]->(a) \n",
    "with pub, r, a, count(distinct a) as n\n",
    "order by n desc \n",
    "RETURN pub, n, r, a LIMIT 15"
   ]
  },
  {
   "cell_type": "markdown",
   "metadata": {},
   "source": [
    "## QUERY 4"
   ]
  },
  {
   "cell_type": "code",
   "execution_count": null,
   "metadata": {},
   "outputs": [],
   "source": [
    "// load the 5 pubs (from 2010 to 2020) contained in a journal that are written by the highest numeber of author coming from instituion of different nations \n",
    "MATCH (pub:Publication)-[r1:CONTAINED]->(a:Journal) \n",
    "match (pub)<-[r2:WROTE]-(aut)-[r3:WORK]->(inst:Institution)\n",
    "with count(DISTINCT inst.country) as n, pub\n",
    "where pub.year>2010 and pub.year<2020\n",
    "return n, pub.title, pub.year\n",
    "order by n desc limit 5\n"
   ]
  },
  {
   "cell_type": "markdown",
   "metadata": {},
   "source": [
    "## QUERY 5"
   ]
  },
  {
   "cell_type": "code",
   "execution_count": null,
   "metadata": {},
   "outputs": [],
   "source": [
    "// load the conf that are holded by a pub written from an author that work in\n",
    "// a institution of Milan in the top-3 national rank\n",
    "match (pub)<-[r1:WROTE]-(aut:Author)-[r2:WORK]->(inst:Institution)\n",
    "match (conf)<-[:HOLD]-(pub)\n",
    "where inst.nr <= 3 and inst.name_uni CONTAINS 'Milan'\n",
    "return conf.name, inst.name_uni, inst.nr\n"
   ]
  },
  {
   "cell_type": "markdown",
   "metadata": {},
   "source": [
    "#### POSSIBLE QUERIES ####"
   ]
  },
  {
   "cell_type": "code",
   "execution_count": null,
   "metadata": {},
   "outputs": [],
   "source": [
    "# FIND ALL THE PUBLICATION OF A SPECIFIC AUTHOR "
   ]
  },
  {
   "cell_type": "code",
   "execution_count": null,
   "metadata": {},
   "outputs": [],
   "source": [
    "# FIND THE MOST COMMON KEYWORD IN ALL THE PUBLICATIONS"
   ]
  },
  {
   "cell_type": "code",
   "execution_count": null,
   "metadata": {},
   "outputs": [],
   "source": [
    "# FIND THE PERCENTAGE OF EACH TYPE OF PUBBLICATION (ARTICLE, BOOK, NULL, ECC..)"
   ]
  },
  {
   "cell_type": "code",
   "execution_count": null,
   "metadata": {},
   "outputs": [],
   "source": [
    "# FIND THE PERCENTAGE OF THE NUMBER OF AUTHOR FOR EACH PUBLICATIONS"
   ]
  },
  {
   "cell_type": "code",
   "execution_count": null,
   "metadata": {},
   "outputs": [],
   "source": [
    "# "
   ]
  }
 ],
 "metadata": {
  "kernelspec": {
   "display_name": "Python 3.9.7 ('base')",
   "language": "python",
   "name": "python3"
  },
  "language_info": {
   "codemirror_mode": {
    "name": "ipython",
    "version": 3
   },
   "file_extension": ".py",
   "mimetype": "text/x-python",
   "name": "python",
   "nbconvert_exporter": "python",
   "pygments_lexer": "ipython3",
   "version": "3.9.7"
  },
  "orig_nbformat": 4,
  "vscode": {
   "interpreter": {
    "hash": "ad2bdc8ecc057115af97d19610ffacc2b4e99fae6737bb82f5d7fb13d2f2c186"
   }
  }
 },
 "nbformat": 4,
 "nbformat_minor": 2
}
