{
 "cells": [
  {
   "cell_type": "code",
   "execution_count": 2,
   "metadata": {},
   "outputs": [],
   "source": [
    "import random, string\n",
    "import csv\n",
    "import pandas as pd\n",
    "import os"
   ]
  },
  {
   "cell_type": "code",
   "execution_count": 3,
   "metadata": {},
   "outputs": [
    {
     "data": {
      "text/plain": [
       "'/home/giusepppe/Desktop/SMBUD'"
      ]
     },
     "execution_count": 3,
     "metadata": {},
     "output_type": "execute_result"
    }
   ],
   "source": [
    "os.getcwd()"
   ]
  },
  {
   "cell_type": "code",
   "execution_count": 4,
   "metadata": {},
   "outputs": [],
   "source": [
    "\n",
    "from numpy import NaN\n",
    "\n",
    "\n",
    "def orcid(row):\n",
    "    if row is not NaN:\n",
    "        return row\n",
    "    return''.join(random.choice(string.digits) for _ in range(4))+\"-\"+''.join(random.choice(string.digits) for _ in range(4))+\"-\"+''.join(random.choice(string.digits) for _ in range(4))+\"-\"+''.join(random.choice(string.digits) for _ in range(4))"
   ]
  },
  {
   "cell_type": "code",
   "execution_count": 5,
   "metadata": {},
   "outputs": [],
   "source": [
    "df = pd.read_csv(os.getcwd()+\"/Datasets/authors.csv\",delimiter=\"|\")\n",
    "df[\"orcid\"] = df[\"orcid\"].apply(lambda x: orcid(x))\n",
    "\n"
   ]
  },
  {
   "cell_type": "code",
   "execution_count": 6,
   "metadata": {},
   "outputs": [],
   "source": [
    "df.to_csv(\"Datasets/authors_Orcid.csv\")"
   ]
  }
 ],
 "metadata": {
  "kernelspec": {
   "display_name": "Python 3.8.13 ('tf_gpu_1')",
   "language": "python",
   "name": "python3"
  },
  "language_info": {
   "codemirror_mode": {
    "name": "ipython",
    "version": 3
   },
   "file_extension": ".py",
   "mimetype": "text/x-python",
   "name": "python",
   "nbconvert_exporter": "python",
   "pygments_lexer": "ipython3",
   "version": "3.8.13"
  },
  "orig_nbformat": 4,
  "vscode": {
   "interpreter": {
    "hash": "1b33ec90f071c03324cc4a00b85f1e07ef984b0c9e8c529e6d6de6bb9edbc927"
   }
  }
 },
 "nbformat": 4,
 "nbformat_minor": 2
}
