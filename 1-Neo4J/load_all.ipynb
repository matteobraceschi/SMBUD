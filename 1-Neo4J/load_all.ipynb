{
 "cells": [
  {
   "cell_type": "markdown",
   "metadata": {},
   "source": [
    "## Constraints"
   ]
  },
  {
   "cell_type": "code",
   "execution_count": null,
   "metadata": {},
   "outputs": [],
   "source": [
    "// constr Load Author\n",
    "CREATE CONSTRAINT author_name_unique FOR (author:Author) REQUIRE author.name IS UNIQUE"
   ]
  },
  {
   "cell_type": "code",
   "execution_count": null,
   "metadata": {},
   "outputs": [],
   "source": [
    "// constr Load Conference\n",
    "CREATE CONSTRAINT conference_name_unique ON (conf:Conference) ASSERT conf.name IS UNIQUE"
   ]
  },
  {
   "cell_type": "code",
   "execution_count": null,
   "metadata": {},
   "outputs": [],
   "source": [
    "// constr Load Institution\n",
    "CREATE CONSTRAINT institution_name_unique FOR (inst:Institution) REQUIRE inst.institution IS UNIQUE"
   ]
  },
  {
   "cell_type": "code",
   "execution_count": null,
   "metadata": {},
   "outputs": [],
   "source": [
    "//constr Load Journal\n",
    "CREATE CONSTRAINT journal_name_unique FOR (j:Journal) REQUIRE j.name IS UNIQUE"
   ]
  },
  {
   "cell_type": "code",
   "execution_count": null,
   "metadata": {},
   "outputs": [],
   "source": [
    "//constr Load Publication\n",
    "CREATE CONSTRAINT publication_title_unique FOR (pc:Publication) REQUIRE pc.doi IS UNIQUE"
   ]
  },
  {
   "cell_type": "code",
   "execution_count": null,
   "metadata": {},
   "outputs": [],
   "source": [
    "//constr Load Publisher\n",
    "CREATE CONSTRAINT publisher_name_unique ON (ps:Publisher) ASSERT ps.name IS UNIQUE"
   ]
  },
  {
   "cell_type": "markdown",
   "metadata": {},
   "source": [
    "## Entità "
   ]
  },
  {
   "cell_type": "code",
   "execution_count": null,
   "metadata": {},
   "outputs": [],
   "source": [
    "// load auth\n",
    "LOAD CSV WITH HEADERS FROM 'file:///author.csv' AS row\n",
    "FIELDTERMINATOR \"|\" WITH row\n",
    "WITH row WHERE row.name IS NOT NULL\n",
    "MERGE (a:Author {name: row.name, orcid:row.orcid});"
   ]
  },
  {
   "cell_type": "code",
   "execution_count": null,
   "metadata": {},
   "outputs": [],
   "source": [
    "// load conf\n",
    "LOAD CSV WITH HEADERS FROM 'file:///conferences.csv' AS row\n",
    "FIELDTERMINATOR \";\"\n",
    "WITH row WHERE row.name IS NOT NULL\n",
    "MERGE (con:Conference {name: row.name, year: toIntegerOrNull(row.year)});"
   ]
  },
  {
   "cell_type": "code",
   "execution_count": null,
   "metadata": {},
   "outputs": [],
   "source": [
    "// load inst\n",
    "LOAD CSV WITH HEADERS FROM 'file:///institution.csv' AS row\n",
    "FIELDTERMINATOR '|'\n",
    "WITH row WHERE row.institution IS NOT NULL\n",
    "CREATE (inst:Institution {  wr: toIntegerOrNull(row.world_rank),\n",
    "                            name_uni: row.institution,\n",
    "                            country: row.country,\n",
    "                            nr: toIntegerOrNull(row.national_rank),\n",
    "                            qe: toIntegerOrNull(row.quality_of_education), \n",
    "                            score: toIntegerOrNull(row.score)\n",
    "                            });"
   ]
  },
  {
   "cell_type": "code",
   "execution_count": null,
   "metadata": {},
   "outputs": [],
   "source": [
    "// load jour\n",
    "LOAD CSV WITH HEADERS FROM 'file:///journals.csv' AS row\n",
    "WITH row WHERE row.name IS NOT NULL\n",
    "MERGE (j:Journal {name: row.name});"
   ]
  },
  {
   "cell_type": "code",
   "execution_count": null,
   "metadata": {},
   "outputs": [],
   "source": [
    "// load pub\n",
    "LOAD CSV WITH HEADERS FROM 'file:///publications.csv' AS row\n",
    "FIELDTERMINATOR '|'\n",
    "CREATE (p:Publication {\n",
    "                        doi: row.id,\n",
    "                        title: row.title,\n",
    "\t\t\t\t\t\tyear: toIntegerOrNull(coalesce(row.year, '')),\n",
    "\t\t\t\t\t    pages: toIntegerOrNull(coalesce(row.pages, '')), \n",
    "                        isbn: coalesce(row.isbn, ''), \n",
    "                        publisher: coalesce(row.publisher, ''), \n",
    "                        doc_type: row.doc_type});\n",
    "\n",
    "                "
   ]
  },
  {
   "cell_type": "code",
   "execution_count": null,
   "metadata": {},
   "outputs": [],
   "source": [
    "// load publisher\n",
    "LOAD CSV WITH HEADERS FROM 'file:///publisher.csv' AS row\n",
    "WITH row WHERE row.name IS NOT NULL\n",
    "MERGE (ps:Publisher {name: row.name});"
   ]
  },
  {
   "cell_type": "markdown",
   "metadata": {},
   "source": [
    "## Load Relationship"
   ]
  },
  {
   "cell_type": "code",
   "execution_count": null,
   "metadata": {},
   "outputs": [],
   "source": [
    "//Load Relation Citation \n",
    "LOAD CSV WITH HEADERS FROM \"file:///citationFAKE.csv\" AS row FIELDTERMINATOR \"|\" \n",
    "MATCH (a:Publication{doi:row.document}),(b:Publication{doi:row.cite})\n",
    "CREATE (a)-[:CITE]->(b)"
   ]
  },
  {
   "cell_type": "code",
   "execution_count": null,
   "metadata": {},
   "outputs": [],
   "source": [
    "//Load Relation Hold   \n",
    "LOAD CSV WITH HEADERS FROM \"file:///conferences_relationship.csv\" AS row FIELDTERMINATOR \"|\"\n",
    "MATCH (a:Publication{doi:row.id})\n",
    "MATCH (b:Conference{name:row.name})\n",
    "CREATE (a)-[:HOLD]->(b)"
   ]
  },
  {
   "cell_type": "code",
   "execution_count": null,
   "metadata": {},
   "outputs": [],
   "source": [
    "//Load Relation Journal\n",
    "LOAD CSV WITH HEADERS FROM \"file:///journals_relationship.csv\" AS row FIELDTERMINATOR \"|\"\n",
    "MATCH (a:Publication{doi:row.id}),(b:Journal{name:row.name})\n",
    "CREATE (a)-[:CONTAINED]->(b)"
   ]
  },
  {
   "cell_type": "code",
   "execution_count": null,
   "metadata": {},
   "outputs": [],
   "source": [
    "//Load relation editors \n",
    "LOAD CSV WITH HEADERS FROM \"file:///editors_relationship.csv\" AS row\n",
    "FIELDTERMINATOR \"|\"\n",
    "MATCH (p:Publication {doi: row.doi})\n",
    "MERGE (e:Editor {name: row.editor})\n",
    "MERGE (e)-[:EDITED]->(p)"
   ]
  },
  {
   "cell_type": "code",
   "execution_count": null,
   "metadata": {},
   "outputs": [],
   "source": [
    "//Load relation keywords \n",
    "LOAD CSV WITH HEADERS FROM \"file:///keywords.csv\" AS row\n",
    "FIELDTERMINATOR \";\"\n",
    "MATCH (p:Publication {doi: row.pubID})\n",
    "MERGE (k:Keyword {name: row.keyword})\n",
    "MERGE (p)-[:KEYWORD]->(k)"
   ]
  },
  {
   "cell_type": "code",
   "execution_count": null,
   "metadata": {},
   "outputs": [],
   "source": [
    "//Load Relation Publisher\n",
    "LOAD CSV WITH HEADERS FROM \"file:///publisher_relationship.csv\" AS row FIELDTERMINATOR \"|\"\n",
    "MATCH (a:Publication{doi:row.id})\n",
    "MATCH (b:Publisher{name:row.name})\n",
    "CREATE (a)-[:PUBLISH]->(b)"
   ]
  },
  {
   "cell_type": "code",
   "execution_count": null,
   "metadata": {},
   "outputs": [],
   "source": [
    "//load relation work\n",
    "LOAD CSV WITH HEADERS FROM \"file:///work_rel.csv\" AS row\n",
    "FIELDTERMINATOR \"|\"\n",
    "MATCH (a:Author {name: row.name})\n",
    "MATCH (inst:Institution {name_uni: row.university})\n",
    "CREATE (a)-[:WORK]->(inst)"
   ]
  },
  {
   "cell_type": "code",
   "execution_count": null,
   "metadata": {},
   "outputs": [],
   "source": [
    "//Load Relation Write\n",
    "load csv with headers from \"file:///relationship.csv\" AS row FIELDTERMINATOR \"|\" \n",
    "match(a:Author{name:row.author_name})\n",
    "match(p:Publication{doi:row.id})\n",
    "create (a)-[:WROTE{order:row.author_order}]->(p)"
   ]
  }
 ],
 "metadata": {
  "kernelspec": {
   "display_name": "Python 3.8.13 ('tf_gpu_1')",
   "language": "python",
   "name": "python3"
  },
  "language_info": {
   "name": "python",
   "version": "3.8.13"
  },
  "orig_nbformat": 4,
  "vscode": {
   "interpreter": {
    "hash": "1b33ec90f071c03324cc4a00b85f1e07ef984b0c9e8c529e6d6de6bb9edbc927"
   }
  }
 },
 "nbformat": 4,
 "nbformat_minor": 2
}
