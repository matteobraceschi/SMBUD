{
 "cells": [
  {
   "cell_type": "markdown",
   "id": "1ec99204-2e83-400b-8f1e-3eba18bca76b",
   "metadata": {},
   "source": [
    "<h4>Operations</h4>\n",
    "<p>Spark supports two different types of operations</p>\n",
    "<ul>\n",
    "    <li><b>Transformations</b> on RDDs return another RDD as a result (e.g., filter()), this is why they are called lazy operations.</li>\n",
    "    <li><b>Actions</b> return values from RDDs</li>\n",
    "</ul>"
   ]
  },
  {
   "cell_type": "code",
   "execution_count": null,
   "id": "28e21cac-e56d-4edb-8825-0907b7831b80",
   "metadata": {},
   "outputs": [],
   "source": [
    "# Import the basic spark library\n",
    "from pyspark.sql import SparkSession\n",
    "\n",
    "# Create an entry point to the PySpark Application\n",
    "spark = SparkSession.builder \\\n",
    "      .master(\"local\") \\\n",
    "      .appName(\"MyFirstSparkApplication\") \\\n",
    "      .getOrCreate()"
   ]
  },
  {
   "cell_type": "code",
   "execution_count": null,
   "id": "5b10fba0-1852-4990-8464-05b327d7f908",
   "metadata": {},
   "outputs": [],
   "source": [
    "from pyspark.sql.types import StructType, StructField, StringType, FloatType, ArrayType\n",
    "\n",
    "#Createe the schema using StructField(Name, Type, Nullable)\n",
    "schema = StructType([ \\\n",
    "    StructField(\"Pizza Name\", StringType(), True), \\\n",
    "    StructField(\"Price\", FloatType(), True), \\\n",
    "    StructField(\"Ingredients\", ArrayType(StringType()), True) \\\n",
    "])\n",
    "\n",
    "df_data = [(\"Margherita\", 5.95, [\"Tomato Sauce\", \"Mozzarella Cheese\", \"Basil\"]),\n",
    "        (\"Calzone\", 7.95, [\"Tomato Sauce\", \"Mozzarella Cheese\", \"Prosciutto Cotto\"]),\n",
    "        (\"Diavola\", 5.95, [\"Tomato Sauce\", \"Mozzarella Cheese\", \"Spicy Salame\"]),\n",
    "        (\"Prosciutto\", 7.95, [\"Tomato Sauce\", \"Mozzarella Cheese\", \"Prosciutto Cotto\"]),\n",
    "        (\"Speck & Brie\", 7.95, [\"Tomato Sauce\", \"Mozzarella Cheese\", \"Speck\", \"Brie\"]),\n",
    "        (\"Tonno & Cipolle\", 7.95, [\"Tomato Sauce\", \"Mozzarella Cheese\", \"Tuna\", \"Onions\"]),\n",
    "        (\"Fries\", 3.95, [\"Potatoes\"])]\n",
    "\n",
    "df = spark.createDataFrame(data = df_data, schema = schema)\n",
    "df.printSchema()\n",
    "df.show(truncate=False)"
   ]
  },
  {
   "cell_type": "markdown",
   "id": "e621d1c6-a58e-411c-b447-62361f70edaf",
   "metadata": {},
   "source": [
    "<h4>Filtering operations (i.e., WHERE conditions)</h4>"
   ]
  },
  {
   "cell_type": "code",
   "execution_count": null,
   "id": "097aa80f-0f7e-410a-b7ca-c11911676c42",
   "metadata": {},
   "outputs": [],
   "source": [
    "# Filtering using equal condition\n",
    "df.filter(df.Price == \"7.95\").show(truncate = False)"
   ]
  },
  {
   "cell_type": "code",
   "execution_count": null,
   "id": "3890f4c0-b576-4d7c-bb03-271efdabad32",
   "metadata": {},
   "outputs": [],
   "source": [
    "# Filtering using not equal condition\n",
    "df.filter(df.Price != \"7.95\").show(truncate = False)"
   ]
  },
  {
   "cell_type": "code",
   "execution_count": null,
   "id": "f4c6b57a-f2fb-4a31-ba21-de3fdd02091d",
   "metadata": {},
   "outputs": [],
   "source": [
    "# Filtering using the col() function\n",
    "from pyspark.sql.functions import col\n",
    "\n",
    "df.filter(col(\"Price\") == \"7.95\").show(truncate = False)"
   ]
  },
  {
   "cell_type": "code",
   "execution_count": null,
   "id": "4f3e798c-e904-4e1a-9cee-f104c2fa1735",
   "metadata": {},
   "outputs": [],
   "source": [
    "# Filtering using SQL Expression\n",
    "df.filter(\"Price == '7.95'\").show(truncate = False)"
   ]
  },
  {
   "cell_type": "code",
   "execution_count": null,
   "id": "ccadd971-637f-4fc0-979e-11e194776d83",
   "metadata": {},
   "outputs": [],
   "source": [
    "# Filtering with multiple conditions\n",
    "df.filter((df.Price == \"7.95\") & (col(\"Pizza Name\") == \"Calzone\")).show(truncate = False)\n",
    "\n",
    "# N.B. Parenthesis are essential!"
   ]
  },
  {
   "cell_type": "code",
   "execution_count": null,
   "id": "82083d1d-4134-4b42-a310-b896153e970d",
   "metadata": {},
   "outputs": [],
   "source": [
    "# Filtering w.r.t. a list of elements\n",
    "favourite_pizzas = [\"Speck & Brie\", \"Tonno & Cipolle\"]\n",
    "\n",
    "# \"is in\" Filtering\n",
    "df.filter(col(\"Pizza Name\").isin(favourite_pizzas)).show(truncate = False)\n",
    "\n",
    "# \"is not in\" Filtering\n",
    "df.filter(col(\"Pizza Name\").isin(favourite_pizzas) == False).show(truncate = False)"
   ]
  },
  {
   "cell_type": "code",
   "execution_count": null,
   "id": "a6a50bfc-356f-435f-bed7-48c084b5e91e",
   "metadata": {},
   "outputs": [],
   "source": [
    "# Filtering w.r.t. a list of elements\n",
    "\n",
    "# collect() -> Extract the list of rows from the resulting RDD\n",
    "expensive_pizzas = df.filter(col(\"Price\") == \"7.95\").select(\"Pizza Name\").collect()\n",
    "\n",
    "# Extract the value of the chosen field\n",
    "expensive_pizzas = [ep[0] for ep in expensive_pizzas]\n",
    "\n",
    "# \"is in\" Filtering\n",
    "df.filter(col(\"Pizza Name\").isin(expensive_pizzas)).show(truncate = False)\n",
    "\n",
    "# \"is not in\" Filtering\n",
    "df.filter(col(\"Pizza Name\").isin(expensive_pizzas) == False).show(truncate = False)"
   ]
  },
  {
   "cell_type": "code",
   "execution_count": null,
   "id": "ab71dac8-a60d-4d87-932e-4618fd459659",
   "metadata": {},
   "outputs": [],
   "source": [
    "# Filtering based on the content of the column\n",
    "\n",
    "# Filtering based on the initial letter(s)\n",
    "df.filter(col(\"Pizza Name\").startswith(\"To\")).show(truncate = False)\n",
    "\n",
    "# Filtering based on the ending letter(s)\n",
    "df.filter(col(\"Pizza Name\").endswith(\"one\")).show(truncate = False)\n",
    "\n",
    "# Filtering based on whether a word is contained in the word\n",
    "df.filter(col(\"Pizza Name\").contains(\"&\")).show(truncate = False)"
   ]
  },
  {
   "cell_type": "code",
   "execution_count": null,
   "id": "542f134c-e9c5-4618-a888-3e7e183097f1",
   "metadata": {},
   "outputs": [],
   "source": [
    "# Filtering using like (i.e., SQL LIKE) \n",
    "df.filter(col(\"Pizza Name\").like(\"%on%\")).show(truncate = False)\n",
    "\n",
    "# Filtering using rlike (i.e., REGEX LIKE)\n",
    "df.filter(col(\"Pizza Name\").rlike(\"[A-z]*&[A-z]*\")).show(truncate = False)"
   ]
  },
  {
   "cell_type": "code",
   "execution_count": null,
   "id": "846f3281-c30c-46b2-a5ec-875a426e2eca",
   "metadata": {},
   "outputs": [],
   "source": [
    "# Filtering on array columns\n",
    "from pyspark.sql.functions import array_contains\n",
    "\n",
    "# Filtering on a single value\n",
    "df.filter(array_contains(df.Ingredients, \"Tomato Sauce\")).show(truncate = False)\n",
    "\n",
    "# Filtering on multiple values\n",
    "df.filter(array_contains(df.Ingredients, \"Tomato Sauce\") & array_contains(df.Ingredients, \"Basil\")).show(truncate = False)"
   ]
  },
  {
   "cell_type": "code",
   "execution_count": null,
   "id": "e8f1abfa-f7e0-4329-9603-bedec4ca8416",
   "metadata": {},
   "outputs": [],
   "source": [
    "# Limit the results to the first 5 elements\n",
    "df.limit(5).show(truncate = False)"
   ]
  }
 ],
 "metadata": {
  "kernelspec": {
   "display_name": "Python 3.8.13 ('tf_gpu_1')",
   "language": "python",
   "name": "python3"
  },
  "language_info": {
   "codemirror_mode": {
    "name": "ipython",
    "version": 3
   },
   "file_extension": ".py",
   "mimetype": "text/x-python",
   "name": "python",
   "nbconvert_exporter": "python",
   "pygments_lexer": "ipython3",
   "version": "3.8.13"
  },
  "vscode": {
   "interpreter": {
    "hash": "1b33ec90f071c03324cc4a00b85f1e07ef984b0c9e8c529e6d6de6bb9edbc927"
   }
  }
 },
 "nbformat": 4,
 "nbformat_minor": 5
}
