{
 "cells": [
  {
   "cell_type": "code",
   "execution_count": null,
   "id": "6d6cf7dd-6993-43ae-8834-c8ee21703c73",
   "metadata": {},
   "outputs": [],
   "source": [
    "# Import the basic spark library\n",
    "from pyspark.sql import SparkSession\n",
    "\n",
    "# Create an entry point to the PySpark Application\n",
    "spark = SparkSession.builder \\\n",
    "      .master(\"local\") \\\n",
    "      .appName(\"MyFirstSparkApplication\") \\\n",
    "      .getOrCreate()"
   ]
  },
  {
   "cell_type": "code",
   "execution_count": null,
   "id": "4c10f3da-bdc1-4f49-a614-a670d3d6ff6b",
   "metadata": {},
   "outputs": [],
   "source": [
    "from pyspark.sql.types import StructType, StructField, StringType, FloatType, ArrayType\n",
    "\n",
    "#Createe the schema using StructField(Name, Type, Nullable)\n",
    "schema = StructType([ \\\n",
    "    StructField(\"Pizza Name\", StringType(), True), \\\n",
    "    StructField(\"Price\", FloatType(), True), \\\n",
    "    StructField(\"Ingredients_ID\", StringType(), True) \\\n",
    "])\n",
    "\n",
    "df_data = [(\"Margherita\", 5.95, \"IG_1\"),\n",
    "        (\"Calzone\", 7.95, \"IG_2\"),\n",
    "        (\"Diavola\", 5.95, \"IG_3\"),\n",
    "        (\"Prosciutto\", 7.95, \"IG_4\"),\n",
    "        (\"Speck & Brie\", 7.95, \"IG_7\"),\n",
    "        (\"Tonno & Cipolle\", 7.95, \"IG_8\")]\n",
    "\n",
    "df = spark.createDataFrame(data = df_data, schema = schema)\n",
    "df.printSchema()\n",
    "df.show(truncate=False)"
   ]
  },
  {
   "cell_type": "code",
   "execution_count": null,
   "id": "6592431e-facb-4dd6-81b4-72b1136a5589",
   "metadata": {},
   "outputs": [],
   "source": [
    "ingredient_schema = StructType([ \\\n",
    "    StructField(\"Ingredients_ID\", StringType(), True), \\\n",
    "    StructField(\"Ingredients\", ArrayType(StringType()), True) \\\n",
    "])\n",
    "\n",
    "ingredient_df_data = [(\"IG_1\", [\"Tomato Sauce\", \"Mozzarella Cheese\", \"Basil\"]),\n",
    "                    (\"IG_2\", [\"Tomato Sauce\", \"Mozzarella Cheese\", \"Prosciutto Cotto\"]),\n",
    "                    (\"IG_3\", [\"Tomato Sauce\", \"Mozzarella Cheese\", \"Spicy Salame\"]),\n",
    "                    (\"IG_4\", [\"Tomato Sauce\", \"Mozzarella Cheese\", \"Prosciutto Cotto\"]),\n",
    "                    (\"IG_5\", [\"Tomato Sauce\", \"Mozzarella Cheese\", \"Speck\", \"Brie\"]),\n",
    "                    (\"IG_6\", [\"Tomato Sauce\", \"Mozzarella Cheese\", \"Tuna\", \"Onions\"])]\n",
    "\n",
    "ingredient_df = spark.createDataFrame(data = ingredient_df_data, schema = ingredient_schema)\n",
    "ingredient_df.printSchema()\n",
    "ingredient_df.show(truncate=False)"
   ]
  },
  {
   "cell_type": "markdown",
   "id": "3c775f1d-f665-4aa3-91e2-14c3cf9736c4",
   "metadata": {},
   "source": [
    "<h4>Join Operations</h4>"
   ]
  },
  {
   "cell_type": "code",
   "execution_count": null,
   "id": "336490bc-5bbb-4196-aa8b-f9e3bbecf739",
   "metadata": {},
   "outputs": [],
   "source": [
    "# Inner join - returns the tuples that matched in both tables\n",
    "df.join(ingredient_df, df.Ingredients_ID == ingredient_df.Ingredients_ID, \"inner\") \\\n",
    "     .show(truncate=False)"
   ]
  },
  {
   "cell_type": "code",
   "execution_count": null,
   "id": "95861579-a701-40a2-bcd9-1fc026478a31",
   "metadata": {},
   "outputs": [],
   "source": [
    "# Outer join - returns all the tuples from both tables, if no matches are found, the tuples are returned with null values\n",
    "df.join(ingredient_df, df.Ingredients_ID == ingredient_df.Ingredients_ID, \"outer\") \\\n",
    "     .show(truncate=False)\n",
    "\n",
    "# Outer join\n",
    "df.join(ingredient_df, df.Ingredients_ID == ingredient_df.Ingredients_ID, \"full\") \\\n",
    "     .show(truncate=False)\n",
    "\n",
    "# Outer join\n",
    "df.join(ingredient_df, df.Ingredients_ID == ingredient_df.Ingredients_ID, \"fullouter\") \\\n",
    "     .show(truncate=False)"
   ]
  },
  {
   "cell_type": "code",
   "execution_count": null,
   "id": "1dcf16ad-d5fc-4c9a-98e0-7bad940ef5fd",
   "metadata": {},
   "outputs": [],
   "source": [
    "# Left join\n",
    "df.join(ingredient_df, df.Ingredients_ID == ingredient_df.Ingredients_ID, \"left\") \\\n",
    "     .show(truncate=False)\n",
    "\n",
    "# Left Outer join\n",
    "df.join(ingredient_df, df.Ingredients_ID == ingredient_df.Ingredients_ID, \"leftouter\") \\\n",
    "     .show(truncate=False)"
   ]
  },
  {
   "cell_type": "code",
   "execution_count": null,
   "id": "3cd8accc-4d25-4701-abb2-8659b6f07af6",
   "metadata": {},
   "outputs": [],
   "source": [
    "# Right join\n",
    "df.join(ingredient_df, df.Ingredients_ID == ingredient_df.Ingredients_ID, \"right\") \\\n",
    "     .show(truncate=False)\n",
    "\n",
    "# Right Outer join\n",
    "df.join(ingredient_df, df.Ingredients_ID == ingredient_df.Ingredients_ID, \"rightouter\") \\\n",
    "     .show(truncate=False)"
   ]
  },
  {
   "cell_type": "code",
   "execution_count": null,
   "id": "73e6301f-7ef3-4b98-8da9-581f831e94fe",
   "metadata": {},
   "outputs": [],
   "source": [
    "# Left Semi join (i.e., left inner join)\n",
    "df.join(ingredient_df, df.Ingredients_ID == ingredient_df.Ingredients_ID, \"leftsemi\") \\\n",
    "     .show(truncate=False)"
   ]
  },
  {
   "cell_type": "code",
   "execution_count": null,
   "id": "a01dba3a-0e2f-4523-97bc-bcb7bd3f1c5a",
   "metadata": {},
   "outputs": [],
   "source": [
    "# Left Anti join - returns all the tuples without a match in the other table\n",
    "df.join(ingredient_df, df.Ingredients_ID == ingredient_df.Ingredients_ID, \"leftanti\") \\\n",
    "     .show(truncate=False)"
   ]
  },
  {
   "cell_type": "code",
   "execution_count": null,
   "id": "ca637ac3-6fd0-4599-a912-e4a39703dce9",
   "metadata": {},
   "outputs": [],
   "source": [
    "# Self join\n",
    "df.join(df, df.Ingredients_ID == df.Ingredients_ID, \"inner\") \\\n",
    "     .show(truncate=False)"
   ]
  },
  {
   "cell_type": "code",
   "execution_count": null,
   "id": "f5c86fb9-1c04-4bf1-b70d-fc26d3c55ce0",
   "metadata": {},
   "outputs": [],
   "source": [
    "# It is also possible to concatenate multiple joins one after another\n",
    "df.join(ingredient_df, df.Ingredients_ID == ingredient_df.Ingredients_ID, \"inner\") \\\n",
    "  .drop(ingredient_df.Ingredients_ID) \\\n",
    "  .join(ingredient_df, df.Ingredients_ID == ingredient_df.Ingredients_ID, \"right\") \\\n",
    "  .show(truncate=False)"
   ]
  }
 ],
 "metadata": {
  "kernelspec": {
   "display_name": "Python 3.8.13 ('tf_gpu_1')",
   "language": "python",
   "name": "python3"
  },
  "language_info": {
   "codemirror_mode": {
    "name": "ipython",
    "version": 3
   },
   "file_extension": ".py",
   "mimetype": "text/x-python",
   "name": "python",
   "nbconvert_exporter": "python",
   "pygments_lexer": "ipython3",
   "version": "3.8.13"
  },
  "vscode": {
   "interpreter": {
    "hash": "1b33ec90f071c03324cc4a00b85f1e07ef984b0c9e8c529e6d6de6bb9edbc927"
   }
  }
 },
 "nbformat": 4,
 "nbformat_minor": 5
}
